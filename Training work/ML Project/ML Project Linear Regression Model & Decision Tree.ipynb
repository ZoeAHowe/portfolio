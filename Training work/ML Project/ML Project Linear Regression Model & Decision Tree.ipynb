{
 "cells": [
  {
   "cell_type": "code",
   "execution_count": 1,
   "id": "e9b092f9",
   "metadata": {},
   "outputs": [],
   "source": [
    "import pandas as pd\n",
    "import numpy as np\n",
    "import seaborn as sns\n",
    "from sklearn import preprocessing\n",
    "import matplotlib.pyplot as plt\n",
    "from sklearn.linear_model import LinearRegression\n",
    "from sklearn.metrics import mean_squared_error, mean_absolute_error, mean_squared_error, r2_score\n",
    "from sklearn.model_selection import train_test_split\n",
    "from sklearn.compose import ColumnTransformer\n",
    "from sklearn.preprocessing import OneHotEncoder\n",
    "from sklearn.preprocessing import StandardScaler\n",
    "from sklearn.preprocessing import LabelEncoder\n",
    "from sklearn.metrics import classification_report\n",
    "from sklearn.metrics import confusion_matrix, ConfusionMatrixDisplay\n",
    "from sklearn.tree import DecisionTreeClassifier\n",
    "from sklearn.ensemble import RandomForestClassifier\n",
    "from sklearn.ensemble import RandomForestRegressor\n",
    "from sklearn.ensemble import GradientBoostingClassifier"
   ]
  },
  {
   "cell_type": "code",
   "execution_count": 2,
   "id": "2c2ccd87",
   "metadata": {},
   "outputs": [],
   "source": [
    "trips_per_day = pd.read_csv('trips_per_day.csv')"
   ]
  },
  {
   "cell_type": "code",
   "execution_count": 3,
   "id": "3585092a",
   "metadata": {},
   "outputs": [],
   "source": [
    "trips_per_day = trips_per_day.drop('Unnamed: 0', axis=1)"
   ]
  },
  {
   "cell_type": "code",
   "execution_count": 4,
   "id": "4ee952e9",
   "metadata": {},
   "outputs": [
    {
     "data": {
      "text/html": [
       "<div>\n",
       "<style scoped>\n",
       "    .dataframe tbody tr th:only-of-type {\n",
       "        vertical-align: middle;\n",
       "    }\n",
       "\n",
       "    .dataframe tbody tr th {\n",
       "        vertical-align: top;\n",
       "    }\n",
       "\n",
       "    .dataframe thead th {\n",
       "        text-align: right;\n",
       "    }\n",
       "</style>\n",
       "<table border=\"1\" class=\"dataframe\">\n",
       "  <thead>\n",
       "    <tr style=\"text-align: right;\">\n",
       "      <th></th>\n",
       "      <th>Date</th>\n",
       "      <th>from_station_name</th>\n",
       "      <th>Mean_Temperature_F</th>\n",
       "      <th>Events</th>\n",
       "      <th>number_of_trips</th>\n",
       "    </tr>\n",
       "  </thead>\n",
       "  <tbody>\n",
       "    <tr>\n",
       "      <th>0</th>\n",
       "      <td>01/01/2015</td>\n",
       "      <td>12th Ave &amp; E Denny Way</td>\n",
       "      <td>35.0</td>\n",
       "      <td>BLANK</td>\n",
       "      <td>10</td>\n",
       "    </tr>\n",
       "    <tr>\n",
       "      <th>1</th>\n",
       "      <td>01/01/2015</td>\n",
       "      <td>12th Ave &amp; E Mercer St</td>\n",
       "      <td>35.0</td>\n",
       "      <td>BLANK</td>\n",
       "      <td>6</td>\n",
       "    </tr>\n",
       "    <tr>\n",
       "      <th>2</th>\n",
       "      <td>01/01/2015</td>\n",
       "      <td>15th Ave E &amp; E Thomas St</td>\n",
       "      <td>35.0</td>\n",
       "      <td>BLANK</td>\n",
       "      <td>4</td>\n",
       "    </tr>\n",
       "    <tr>\n",
       "      <th>3</th>\n",
       "      <td>01/01/2015</td>\n",
       "      <td>1st Ave &amp; Marion St</td>\n",
       "      <td>35.0</td>\n",
       "      <td>BLANK</td>\n",
       "      <td>8</td>\n",
       "    </tr>\n",
       "    <tr>\n",
       "      <th>4</th>\n",
       "      <td>01/01/2015</td>\n",
       "      <td>2nd Ave &amp; Blanchard St</td>\n",
       "      <td>35.0</td>\n",
       "      <td>BLANK</td>\n",
       "      <td>14</td>\n",
       "    </tr>\n",
       "  </tbody>\n",
       "</table>\n",
       "</div>"
      ],
      "text/plain": [
       "         Date         from_station_name  Mean_Temperature_F Events  \\\n",
       "0  01/01/2015    12th Ave & E Denny Way                35.0  BLANK   \n",
       "1  01/01/2015    12th Ave & E Mercer St                35.0  BLANK   \n",
       "2  01/01/2015  15th Ave E & E Thomas St                35.0  BLANK   \n",
       "3  01/01/2015       1st Ave & Marion St                35.0  BLANK   \n",
       "4  01/01/2015    2nd Ave & Blanchard St                35.0  BLANK   \n",
       "\n",
       "   number_of_trips  \n",
       "0               10  \n",
       "1                6  \n",
       "2                4  \n",
       "3                8  \n",
       "4               14  "
      ]
     },
     "execution_count": 4,
     "metadata": {},
     "output_type": "execute_result"
    }
   ],
   "source": [
    "trips_per_day.head()"
   ]
  },
  {
   "cell_type": "code",
   "execution_count": 5,
   "id": "32eef5bd",
   "metadata": {},
   "outputs": [
    {
     "data": {
      "text/html": [
       "<div>\n",
       "<style scoped>\n",
       "    .dataframe tbody tr th:only-of-type {\n",
       "        vertical-align: middle;\n",
       "    }\n",
       "\n",
       "    .dataframe tbody tr th {\n",
       "        vertical-align: top;\n",
       "    }\n",
       "\n",
       "    .dataframe thead th {\n",
       "        text-align: right;\n",
       "    }\n",
       "</style>\n",
       "<table border=\"1\" class=\"dataframe\">\n",
       "  <thead>\n",
       "    <tr style=\"text-align: right;\">\n",
       "      <th></th>\n",
       "      <th>Date</th>\n",
       "      <th>from_station_name</th>\n",
       "      <th>Mean_Temperature_F</th>\n",
       "      <th>number_of_trips</th>\n",
       "      <th>Events_BLANK</th>\n",
       "      <th>Events_Fog</th>\n",
       "      <th>Events_Fog-Rain</th>\n",
       "      <th>Events_Rain</th>\n",
       "      <th>Events_Rain-Snow</th>\n",
       "      <th>Events_Rain-Thunderstorm</th>\n",
       "      <th>Events_Snow</th>\n",
       "    </tr>\n",
       "  </thead>\n",
       "  <tbody>\n",
       "    <tr>\n",
       "      <th>18565</th>\n",
       "      <td>18/06/2015</td>\n",
       "      <td>Terry Ave &amp; Stewart St</td>\n",
       "      <td>70.0</td>\n",
       "      <td>1</td>\n",
       "      <td>1</td>\n",
       "      <td>0</td>\n",
       "      <td>0</td>\n",
       "      <td>0</td>\n",
       "      <td>0</td>\n",
       "      <td>0</td>\n",
       "      <td>0</td>\n",
       "    </tr>\n",
       "    <tr>\n",
       "      <th>23048</th>\n",
       "      <td>22/07/2015</td>\n",
       "      <td>Key Arena / 1st Ave N &amp; Harrison St</td>\n",
       "      <td>68.0</td>\n",
       "      <td>9</td>\n",
       "      <td>1</td>\n",
       "      <td>0</td>\n",
       "      <td>0</td>\n",
       "      <td>0</td>\n",
       "      <td>0</td>\n",
       "      <td>0</td>\n",
       "      <td>0</td>\n",
       "    </tr>\n",
       "    <tr>\n",
       "      <th>6417</th>\n",
       "      <td>07/02/2015</td>\n",
       "      <td>6th Ave &amp; Blanchard St</td>\n",
       "      <td>54.0</td>\n",
       "      <td>2</td>\n",
       "      <td>0</td>\n",
       "      <td>0</td>\n",
       "      <td>0</td>\n",
       "      <td>1</td>\n",
       "      <td>0</td>\n",
       "      <td>0</td>\n",
       "      <td>0</td>\n",
       "    </tr>\n",
       "    <tr>\n",
       "      <th>3194</th>\n",
       "      <td>04/01/2016</td>\n",
       "      <td>Key Arena / 1st Ave N &amp; Harrison St</td>\n",
       "      <td>38.0</td>\n",
       "      <td>2</td>\n",
       "      <td>0</td>\n",
       "      <td>0</td>\n",
       "      <td>0</td>\n",
       "      <td>1</td>\n",
       "      <td>0</td>\n",
       "      <td>0</td>\n",
       "      <td>0</td>\n",
       "    </tr>\n",
       "    <tr>\n",
       "      <th>24404</th>\n",
       "      <td>23/10/2015</td>\n",
       "      <td>2nd Ave &amp; Pine St</td>\n",
       "      <td>52.0</td>\n",
       "      <td>6</td>\n",
       "      <td>0</td>\n",
       "      <td>1</td>\n",
       "      <td>0</td>\n",
       "      <td>0</td>\n",
       "      <td>0</td>\n",
       "      <td>0</td>\n",
       "      <td>0</td>\n",
       "    </tr>\n",
       "  </tbody>\n",
       "</table>\n",
       "</div>"
      ],
      "text/plain": [
       "             Date                    from_station_name  Mean_Temperature_F  \\\n",
       "18565  18/06/2015               Terry Ave & Stewart St                70.0   \n",
       "23048  22/07/2015  Key Arena / 1st Ave N & Harrison St                68.0   \n",
       "6417   07/02/2015               6th Ave & Blanchard St                54.0   \n",
       "3194   04/01/2016  Key Arena / 1st Ave N & Harrison St                38.0   \n",
       "24404  23/10/2015                    2nd Ave & Pine St                52.0   \n",
       "\n",
       "       number_of_trips  Events_BLANK  Events_Fog  Events_Fog-Rain  \\\n",
       "18565                1             1           0                0   \n",
       "23048                9             1           0                0   \n",
       "6417                 2             0           0                0   \n",
       "3194                 2             0           0                0   \n",
       "24404                6             0           1                0   \n",
       "\n",
       "       Events_Rain  Events_Rain-Snow  Events_Rain-Thunderstorm  Events_Snow  \n",
       "18565            0                 0                         0            0  \n",
       "23048            0                 0                         0            0  \n",
       "6417             1                 0                         0            0  \n",
       "3194             1                 0                         0            0  \n",
       "24404            0                 0                         0            0  "
      ]
     },
     "execution_count": 5,
     "metadata": {},
     "output_type": "execute_result"
    }
   ],
   "source": [
    "trips_per_day1 = pd.get_dummies(trips_per_day, columns=['Events'])\n",
    "trips_per_day1.sample(5)"
   ]
  },
  {
   "cell_type": "code",
   "execution_count": 6,
   "id": "0069eaa3",
   "metadata": {},
   "outputs": [
    {
     "data": {
      "text/plain": [
       "Index(['Date', 'from_station_name', 'Mean_Temperature_F', 'number_of_trips',\n",
       "       'Events_BLANK', 'Events_Fog', 'Events_Fog-Rain', 'Events_Rain',\n",
       "       'Events_Rain-Snow', 'Events_Rain-Thunderstorm', 'Events_Snow'],\n",
       "      dtype='object')"
      ]
     },
     "execution_count": 6,
     "metadata": {},
     "output_type": "execute_result"
    }
   ],
   "source": [
    "trips_per_day1.columns"
   ]
  },
  {
   "cell_type": "markdown",
   "id": "8247d047",
   "metadata": {},
   "source": [
    "# Test size 0.3"
   ]
  },
  {
   "cell_type": "code",
   "execution_count": 7,
   "id": "676f2fc9",
   "metadata": {},
   "outputs": [],
   "source": [
    "X = trips_per_day1[['Mean_Temperature_F',\n",
    "                    'Events_BLANK', \n",
    "                    'Events_Fog', \n",
    "                    'Events_Fog-Rain', \n",
    "                    'Events_Rain',\n",
    "                    'Events_Rain-Snow', \n",
    "                    'Events_Rain-Thunderstorm', \n",
    "                    'Events_Snow']]\n",
    "\n",
    "y = trips_per_day1['number_of_trips']\n",
    "\n",
    "X_train, X_test, y_train, y_test = train_test_split(X, y, test_size=0.30, random_state =42) "
   ]
  },
  {
   "cell_type": "code",
   "execution_count": 8,
   "id": "7b047cc2",
   "metadata": {},
   "outputs": [
    {
     "data": {
      "image/png": "[encoded data removed]",
      "text/plain": [
       "<Figure size 640x480 with 1 Axes>"
      ]
     },
     "metadata": {},
     "output_type": "display_data"
    }
   ],
   "source": [
    "y_train.hist();"
   ]
  },
  {
   "cell_type": "code",
   "execution_count": 9,
   "id": "d0fe96fc",
   "metadata": {},
   "outputs": [
    {
     "data": {
      "image/png": "[encoded data removed]",
      "text/plain": [
       "<Figure size 640x480 with 1 Axes>"
      ]
     },
     "metadata": {},
     "output_type": "display_data"
    }
   ],
   "source": [
    "y_test.hist();"
   ]
  },
  {
   "cell_type": "code",
   "execution_count": 10,
   "id": "ec2c4f6f",
   "metadata": {},
   "outputs": [],
   "source": [
    "scaler =  StandardScaler()\n",
    "scaler_target = StandardScaler()"
   ]
  },
  {
   "cell_type": "code",
   "execution_count": 11,
   "id": "7ce347ff",
   "metadata": {},
   "outputs": [
    {
     "data": {
      "text/plain": [
       "['Mean_Temperature_F',\n",
       " 'Events_BLANK',\n",
       " 'Events_Fog',\n",
       " 'Events_Fog-Rain',\n",
       " 'Events_Rain',\n",
       " 'Events_Rain-Snow',\n",
       " 'Events_Rain-Thunderstorm',\n",
       " 'Events_Snow']"
      ]
     },
     "execution_count": 11,
     "metadata": {},
     "output_type": "execute_result"
    }
   ],
   "source": [
    "cols = list(X_train.columns)\n",
    "cols"
   ]
  },
  {
   "cell_type": "code",
   "execution_count": 12,
   "id": "05f08d80",
   "metadata": {},
   "outputs": [
    {
     "data": {
      "text/html": [
       "<div>\n",
       "<style scoped>\n",
       "    .dataframe tbody tr th:only-of-type {\n",
       "        vertical-align: middle;\n",
       "    }\n",
       "\n",
       "    .dataframe tbody tr th {\n",
       "        vertical-align: top;\n",
       "    }\n",
       "\n",
       "    .dataframe thead th {\n",
       "        text-align: right;\n",
       "    }\n",
       "</style>\n",
       "<table border=\"1\" class=\"dataframe\">\n",
       "  <thead>\n",
       "    <tr style=\"text-align: right;\">\n",
       "      <th></th>\n",
       "      <th>Mean_Temperature_F</th>\n",
       "      <th>Events_BLANK</th>\n",
       "      <th>Events_Fog</th>\n",
       "      <th>Events_Fog-Rain</th>\n",
       "      <th>Events_Rain</th>\n",
       "      <th>Events_Rain-Snow</th>\n",
       "      <th>Events_Rain-Thunderstorm</th>\n",
       "      <th>Events_Snow</th>\n",
       "    </tr>\n",
       "  </thead>\n",
       "  <tbody>\n",
       "    <tr>\n",
       "      <th>24424</th>\n",
       "      <td>52.0</td>\n",
       "      <td>0</td>\n",
       "      <td>1</td>\n",
       "      <td>0</td>\n",
       "      <td>0</td>\n",
       "      <td>0</td>\n",
       "      <td>0</td>\n",
       "      <td>0</td>\n",
       "    </tr>\n",
       "    <tr>\n",
       "      <th>32222</th>\n",
       "      <td>59.0</td>\n",
       "      <td>1</td>\n",
       "      <td>0</td>\n",
       "      <td>0</td>\n",
       "      <td>0</td>\n",
       "      <td>0</td>\n",
       "      <td>0</td>\n",
       "      <td>0</td>\n",
       "    </tr>\n",
       "    <tr>\n",
       "      <th>5090</th>\n",
       "      <td>57.0</td>\n",
       "      <td>0</td>\n",
       "      <td>0</td>\n",
       "      <td>0</td>\n",
       "      <td>1</td>\n",
       "      <td>0</td>\n",
       "      <td>0</td>\n",
       "      <td>0</td>\n",
       "    </tr>\n",
       "    <tr>\n",
       "      <th>21877</th>\n",
       "      <td>64.0</td>\n",
       "      <td>0</td>\n",
       "      <td>0</td>\n",
       "      <td>0</td>\n",
       "      <td>1</td>\n",
       "      <td>0</td>\n",
       "      <td>0</td>\n",
       "      <td>0</td>\n",
       "    </tr>\n",
       "    <tr>\n",
       "      <th>11192</th>\n",
       "      <td>64.0</td>\n",
       "      <td>1</td>\n",
       "      <td>0</td>\n",
       "      <td>0</td>\n",
       "      <td>0</td>\n",
       "      <td>0</td>\n",
       "      <td>0</td>\n",
       "      <td>0</td>\n",
       "    </tr>\n",
       "    <tr>\n",
       "      <th>...</th>\n",
       "      <td>...</td>\n",
       "      <td>...</td>\n",
       "      <td>...</td>\n",
       "      <td>...</td>\n",
       "      <td>...</td>\n",
       "      <td>...</td>\n",
       "      <td>...</td>\n",
       "      <td>...</td>\n",
       "    </tr>\n",
       "    <tr>\n",
       "      <th>29802</th>\n",
       "      <td>56.0</td>\n",
       "      <td>0</td>\n",
       "      <td>0</td>\n",
       "      <td>0</td>\n",
       "      <td>1</td>\n",
       "      <td>0</td>\n",
       "      <td>0</td>\n",
       "      <td>0</td>\n",
       "    </tr>\n",
       "    <tr>\n",
       "      <th>5390</th>\n",
       "      <td>56.0</td>\n",
       "      <td>0</td>\n",
       "      <td>0</td>\n",
       "      <td>0</td>\n",
       "      <td>1</td>\n",
       "      <td>0</td>\n",
       "      <td>0</td>\n",
       "      <td>0</td>\n",
       "    </tr>\n",
       "    <tr>\n",
       "      <th>860</th>\n",
       "      <td>52.0</td>\n",
       "      <td>1</td>\n",
       "      <td>0</td>\n",
       "      <td>0</td>\n",
       "      <td>0</td>\n",
       "      <td>0</td>\n",
       "      <td>0</td>\n",
       "      <td>0</td>\n",
       "    </tr>\n",
       "    <tr>\n",
       "      <th>15795</th>\n",
       "      <td>48.0</td>\n",
       "      <td>1</td>\n",
       "      <td>0</td>\n",
       "      <td>0</td>\n",
       "      <td>0</td>\n",
       "      <td>0</td>\n",
       "      <td>0</td>\n",
       "      <td>0</td>\n",
       "    </tr>\n",
       "    <tr>\n",
       "      <th>23654</th>\n",
       "      <td>44.0</td>\n",
       "      <td>1</td>\n",
       "      <td>0</td>\n",
       "      <td>0</td>\n",
       "      <td>0</td>\n",
       "      <td>0</td>\n",
       "      <td>0</td>\n",
       "      <td>0</td>\n",
       "    </tr>\n",
       "  </tbody>\n",
       "</table>\n",
       "<p>22900 rows × 8 columns</p>\n",
       "</div>"
      ],
      "text/plain": [
       "       Mean_Temperature_F  Events_BLANK  Events_Fog  Events_Fog-Rain  \\\n",
       "24424                52.0             0           1                0   \n",
       "32222                59.0             1           0                0   \n",
       "5090                 57.0             0           0                0   \n",
       "21877                64.0             0           0                0   \n",
       "11192                64.0             1           0                0   \n",
       "...                   ...           ...         ...              ...   \n",
       "29802                56.0             0           0                0   \n",
       "5390                 56.0             0           0                0   \n",
       "860                  52.0             1           0                0   \n",
       "15795                48.0             1           0                0   \n",
       "23654                44.0             1           0                0   \n",
       "\n",
       "       Events_Rain  Events_Rain-Snow  Events_Rain-Thunderstorm  Events_Snow  \n",
       "24424            0                 0                         0            0  \n",
       "32222            0                 0                         0            0  \n",
       "5090             1                 0                         0            0  \n",
       "21877            1                 0                         0            0  \n",
       "11192            0                 0                         0            0  \n",
       "...            ...               ...                       ...          ...  \n",
       "29802            1                 0                         0            0  \n",
       "5390             1                 0                         0            0  \n",
       "860              0                 0                         0            0  \n",
       "15795            0                 0                         0            0  \n",
       "23654            0                 0                         0            0  \n",
       "\n",
       "[22900 rows x 8 columns]"
      ]
     },
     "execution_count": 12,
     "metadata": {},
     "output_type": "execute_result"
    }
   ],
   "source": [
    "X_train"
   ]
  },
  {
   "cell_type": "code",
   "execution_count": 13,
   "id": "c0588fa4",
   "metadata": {},
   "outputs": [],
   "source": [
    "X_train[cols] = scaler.fit_transform(X_train)\n",
    "X_test[cols] = scaler.transform(X_test) "
   ]
  },
  {
   "cell_type": "code",
   "execution_count": 14,
   "id": "81742b30",
   "metadata": {},
   "outputs": [],
   "source": [
    "y_train = scaler_target.fit_transform(y_train.values.reshape(-1, 1)) \n",
    "y_test = scaler_target.transform(y_test.values.reshape(-1, 1))"
   ]
  },
  {
   "cell_type": "code",
   "execution_count": 15,
   "id": "1059576e",
   "metadata": {},
   "outputs": [
    {
     "data": {
      "text/plain": [
       "array([[-0.92283904],\n",
       "       [ 0.84837316],\n",
       "       [ 0.1671377 ],\n",
       "       ...,\n",
       "       [ 3.16457374],\n",
       "       [-0.37785067],\n",
       "       [ 3.16457374]])"
      ]
     },
     "execution_count": 15,
     "metadata": {},
     "output_type": "execute_result"
    }
   ],
   "source": [
    "y_train"
   ]
  },
  {
   "cell_type": "code",
   "execution_count": 16,
   "id": "3219a83e",
   "metadata": {},
   "outputs": [
    {
     "data": {
      "text/html": [
       "<div>\n",
       "<style scoped>\n",
       "    .dataframe tbody tr th:only-of-type {\n",
       "        vertical-align: middle;\n",
       "    }\n",
       "\n",
       "    .dataframe tbody tr th {\n",
       "        vertical-align: top;\n",
       "    }\n",
       "\n",
       "    .dataframe thead th {\n",
       "        text-align: right;\n",
       "    }\n",
       "</style>\n",
       "<table border=\"1\" class=\"dataframe\">\n",
       "  <thead>\n",
       "    <tr style=\"text-align: right;\">\n",
       "      <th></th>\n",
       "      <th>Mean_Temperature_F</th>\n",
       "      <th>Events_BLANK</th>\n",
       "      <th>Events_Fog</th>\n",
       "      <th>Events_Fog-Rain</th>\n",
       "      <th>Events_Rain</th>\n",
       "      <th>Events_Rain-Snow</th>\n",
       "      <th>Events_Rain-Thunderstorm</th>\n",
       "      <th>Events_Snow</th>\n",
       "    </tr>\n",
       "  </thead>\n",
       "  <tbody>\n",
       "    <tr>\n",
       "      <th>count</th>\n",
       "      <td>2.290000e+04</td>\n",
       "      <td>2.290000e+04</td>\n",
       "      <td>2.290000e+04</td>\n",
       "      <td>2.290000e+04</td>\n",
       "      <td>2.290000e+04</td>\n",
       "      <td>2.290000e+04</td>\n",
       "      <td>2.290000e+04</td>\n",
       "      <td>2.290000e+04</td>\n",
       "    </tr>\n",
       "    <tr>\n",
       "      <th>mean</th>\n",
       "      <td>-7.291596e-17</td>\n",
       "      <td>7.322624e-17</td>\n",
       "      <td>-5.833277e-17</td>\n",
       "      <td>1.799628e-17</td>\n",
       "      <td>-1.241123e-18</td>\n",
       "      <td>3.180377e-17</td>\n",
       "      <td>2.241778e-17</td>\n",
       "      <td>-2.358133e-17</td>\n",
       "    </tr>\n",
       "    <tr>\n",
       "      <th>std</th>\n",
       "      <td>1.000022e+00</td>\n",
       "      <td>1.000022e+00</td>\n",
       "      <td>1.000022e+00</td>\n",
       "      <td>1.000022e+00</td>\n",
       "      <td>1.000022e+00</td>\n",
       "      <td>1.000022e+00</td>\n",
       "      <td>1.000022e+00</td>\n",
       "      <td>1.000022e+00</td>\n",
       "    </tr>\n",
       "    <tr>\n",
       "      <th>min</th>\n",
       "      <td>-2.335432e+00</td>\n",
       "      <td>-1.087960e+00</td>\n",
       "      <td>-1.549609e-01</td>\n",
       "      <td>-1.396410e-01</td>\n",
       "      <td>-8.144183e-01</td>\n",
       "      <td>-5.293952e-02</td>\n",
       "      <td>-1.048470e-01</td>\n",
       "      <td>-5.416964e-02</td>\n",
       "    </tr>\n",
       "    <tr>\n",
       "      <th>25%</th>\n",
       "      <td>-7.917318e-01</td>\n",
       "      <td>-1.087960e+00</td>\n",
       "      <td>-1.549609e-01</td>\n",
       "      <td>-1.396410e-01</td>\n",
       "      <td>-8.144183e-01</td>\n",
       "      <td>-5.293952e-02</td>\n",
       "      <td>-1.048470e-01</td>\n",
       "      <td>-5.416964e-02</td>\n",
       "    </tr>\n",
       "    <tr>\n",
       "      <th>50%</th>\n",
       "      <td>-1.988188e-02</td>\n",
       "      <td>9.191518e-01</td>\n",
       "      <td>-1.549609e-01</td>\n",
       "      <td>-1.396410e-01</td>\n",
       "      <td>-8.144183e-01</td>\n",
       "      <td>-5.293952e-02</td>\n",
       "      <td>-1.048470e-01</td>\n",
       "      <td>-5.416964e-02</td>\n",
       "    </tr>\n",
       "    <tr>\n",
       "      <th>75%</th>\n",
       "      <td>8.484493e-01</td>\n",
       "      <td>9.191518e-01</td>\n",
       "      <td>-1.549609e-01</td>\n",
       "      <td>-1.396410e-01</td>\n",
       "      <td>1.227870e+00</td>\n",
       "      <td>-5.293952e-02</td>\n",
       "      <td>-1.048470e-01</td>\n",
       "      <td>-5.416964e-02</td>\n",
       "    </tr>\n",
       "    <tr>\n",
       "      <th>max</th>\n",
       "      <td>2.488631e+00</td>\n",
       "      <td>9.191518e-01</td>\n",
       "      <td>6.453241e+00</td>\n",
       "      <td>7.161222e+00</td>\n",
       "      <td>1.227870e+00</td>\n",
       "      <td>1.888948e+01</td>\n",
       "      <td>9.537708e+00</td>\n",
       "      <td>1.846053e+01</td>\n",
       "    </tr>\n",
       "  </tbody>\n",
       "</table>\n",
       "</div>"
      ],
      "text/plain": [
       "       Mean_Temperature_F  Events_BLANK    Events_Fog  Events_Fog-Rain  \\\n",
       "count        2.290000e+04  2.290000e+04  2.290000e+04     2.290000e+04   \n",
       "mean        -7.291596e-17  7.322624e-17 -5.833277e-17     1.799628e-17   \n",
       "std          1.000022e+00  1.000022e+00  1.000022e+00     1.000022e+00   \n",
       "min         -2.335432e+00 -1.087960e+00 -1.549609e-01    -1.396410e-01   \n",
       "25%         -7.917318e-01 -1.087960e+00 -1.549609e-01    -1.396410e-01   \n",
       "50%         -1.988188e-02  9.191518e-01 -1.549609e-01    -1.396410e-01   \n",
       "75%          8.484493e-01  9.191518e-01 -1.549609e-01    -1.396410e-01   \n",
       "max          2.488631e+00  9.191518e-01  6.453241e+00     7.161222e+00   \n",
       "\n",
       "        Events_Rain  Events_Rain-Snow  Events_Rain-Thunderstorm   Events_Snow  \n",
       "count  2.290000e+04      2.290000e+04              2.290000e+04  2.290000e+04  \n",
       "mean  -1.241123e-18      3.180377e-17              2.241778e-17 -2.358133e-17  \n",
       "std    1.000022e+00      1.000022e+00              1.000022e+00  1.000022e+00  \n",
       "min   -8.144183e-01     -5.293952e-02             -1.048470e-01 -5.416964e-02  \n",
       "25%   -8.144183e-01     -5.293952e-02             -1.048470e-01 -5.416964e-02  \n",
       "50%   -8.144183e-01     -5.293952e-02             -1.048470e-01 -5.416964e-02  \n",
       "75%    1.227870e+00     -5.293952e-02             -1.048470e-01 -5.416964e-02  \n",
       "max    1.227870e+00      1.888948e+01              9.537708e+00  1.846053e+01  "
      ]
     },
     "execution_count": 16,
     "metadata": {},
     "output_type": "execute_result"
    }
   ],
   "source": [
    "X_train.describe()"
   ]
  },
  {
   "cell_type": "code",
   "execution_count": 17,
   "id": "100b8e5f",
   "metadata": {},
   "outputs": [
    {
     "name": "stdout",
     "output_type": "stream",
     "text": [
      "1.0 -1.0549542801678343e-16\n",
      "1.0161486391359706 -0.0037437785456346908\n"
     ]
    }
   ],
   "source": [
    "print(y_train.std(), y_train.mean())\n",
    "print(y_test.std(), y_test.mean())"
   ]
  },
  {
   "cell_type": "code",
   "execution_count": 18,
   "id": "d8aa1df6",
   "metadata": {},
   "outputs": [
    {
     "data": {
      "text/plain": [
       "Index(['Mean_Temperature_F', 'Events_BLANK', 'Events_Fog', 'Events_Fog-Rain',\n",
       "       'Events_Rain', 'Events_Rain-Snow', 'Events_Rain-Thunderstorm',\n",
       "       'Events_Snow'],\n",
       "      dtype='object')"
      ]
     },
     "execution_count": 18,
     "metadata": {},
     "output_type": "execute_result"
    }
   ],
   "source": [
    "X_train.columns"
   ]
  },
  {
   "cell_type": "code",
   "execution_count": 19,
   "id": "b1688b46",
   "metadata": {},
   "outputs": [],
   "source": [
    "cols = ['Mean_Temperature_F']"
   ]
  },
  {
   "cell_type": "code",
   "execution_count": 20,
   "id": "cbc26364",
   "metadata": {},
   "outputs": [],
   "source": [
    "# call the method\n",
    "regressor = LinearRegression(fit_intercept = False) \n",
    "# fit_intercept = false, do not try and fit. If scaled the mean of every feature already is 0. \n",
    "# This kind of model will always go through 0\n",
    "\n",
    "# Fit the model <- THIS IS ML\n",
    "regressor.fit(X_train[cols], y_train) # Both the training data's\n",
    "\n",
    "# Carry out predictions on our test set\n",
    "y_pred = regressor.predict(X_test[cols])"
   ]
  },
  {
   "cell_type": "code",
   "execution_count": 21,
   "id": "8ef39032",
   "metadata": {},
   "outputs": [
    {
     "data": {
      "text/plain": [
       "array([[ 0.04180255],\n",
       "       [-0.13774045],\n",
       "       [-0.07789278],\n",
       "       ...,\n",
       "       [ 0.11661213],\n",
       "       [ 0.01187872],\n",
       "       [ 0.0866883 ]])"
      ]
     },
     "execution_count": 21,
     "metadata": {},
     "output_type": "execute_result"
    }
   ],
   "source": [
    "y_pred"
   ]
  },
  {
   "cell_type": "code",
   "execution_count": 22,
   "id": "fc5b8530",
   "metadata": {},
   "outputs": [
    {
     "name": "stderr",
     "output_type": "stream",
     "text": [
      "C:\\ProgramData\\anaconda3\\lib\\site-packages\\sklearn\\base.py:420: UserWarning: X does not have valid feature names, but LinearRegression was fitted with feature names\n",
      "  warnings.warn(\n"
     ]
    },
    {
     "data": {
      "image/png": "[encoded data removed]",
      "text/plain": [
       "<Figure size 1500x800 with 1 Axes>"
      ]
     },
     "metadata": {},
     "output_type": "display_data"
    }
   ],
   "source": [
    "plt.figure(figsize=(15, 8))\n",
    "plt.scatter(X_train[cols], y_train, s=0.1)\n",
    "\n",
    "x = np.linspace(X_train[cols].min(), 3.6, 100)\n",
    "\n",
    "y = regressor.predict(x)\n",
    "\n",
    "plt.plot(x, y, '-r')\n",
    "\n",
    "# # Adding labels to each axis\n",
    "plt.xlabel('Mean Temperature F Z_scores')\n",
    "plt.ylabel('Number of Trips Z_scores')\n",
    "\n",
    "# calling the plot\n",
    "plt.show()"
   ]
  },
  {
   "cell_type": "code",
   "execution_count": 23,
   "id": "f42a0ca3",
   "metadata": {},
   "outputs": [
    {
     "data": {
      "image/png": "[encoded data removed]",
      "text/plain": [
       "<Figure size 1500x800 with 1 Axes>"
      ]
     },
     "metadata": {},
     "output_type": "display_data"
    }
   ],
   "source": [
    "# Same as above\n",
    "# notice the difference in the scatter plot\n",
    "plt.figure(figsize=(15, 8))\n",
    "plt.scatter(X_test[cols], y_test, s=0.1)\n",
    "x = np.linspace(X_train[cols].min(),3.6,100)\n",
    "y = (regressor.coef_)*x+(regressor.intercept_)\n",
    "\n",
    "plt.plot(x, y, '-r', label='Model')\n",
    "plt.xlabel('Mean Temperature F Z_scores')\n",
    "plt.ylabel('Number of Trips Z_scores')\n",
    "plt.show()"
   ]
  },
  {
   "cell_type": "code",
   "execution_count": 24,
   "id": "66ffe664",
   "metadata": {},
   "outputs": [],
   "source": [
    "# first we need to reverse the transformation so we have meanginful results\n",
    "# calling inverse_transform on our scaler\n",
    "y_true = scaler_target.inverse_transform(y_test) # <- observed y values\n",
    "y_pred_inverse = scaler_target.inverse_transform(y_pred) # <- predicted y"
   ]
  },
  {
   "cell_type": "code",
   "execution_count": 25,
   "id": "a86b2601",
   "metadata": {},
   "outputs": [],
   "source": [
    "# Calculating the errors\n",
    "mae = mean_absolute_error(y_true, y_pred_inverse)\n",
    "mse = mean_squared_error(y_true, y_pred_inverse)\n",
    "rmse = np.sqrt(mse)\n",
    "\n",
    "# Calculting the R^2\n",
    "r2 = r2_score(y_true, y_pred_inverse)"
   ]
  },
  {
   "cell_type": "code",
   "execution_count": 26,
   "id": "f60d0d5d",
   "metadata": {},
   "outputs": [
    {
     "name": "stdout",
     "output_type": "stream",
     "text": [
      "MAE =  5.3\n",
      "MSE =  54.7\n",
      "RMSE =  7.4\n",
      "R^2 =  0.02\n"
     ]
    }
   ],
   "source": [
    "print('MAE = ', mae.round(2))\n",
    "print('MSE = ', mse.round(2))\n",
    "print('RMSE = ', rmse.round(2))\n",
    "print('R^2 = ', r2.round(2))"
   ]
  },
  {
   "cell_type": "markdown",
   "id": "67b1e2c7",
   "metadata": {},
   "source": [
    "# Change test size to 0.2"
   ]
  },
  {
   "cell_type": "code",
   "execution_count": 27,
   "id": "c141d3e9",
   "metadata": {},
   "outputs": [],
   "source": [
    "X = trips_per_day1[['Mean_Temperature_F',\n",
    "                    'Events_BLANK', \n",
    "                    'Events_Fog', \n",
    "                    'Events_Fog-Rain', \n",
    "                    'Events_Rain',\n",
    "                    'Events_Rain-Snow', \n",
    "                    'Events_Rain-Thunderstorm', \n",
    "                    'Events_Snow']]\n",
    "\n",
    "y = trips_per_day1['number_of_trips']\n",
    "\n",
    "X_train, X_test, y_train, y_test = train_test_split(X, y, test_size=0.20, random_state =42)"
   ]
  },
  {
   "cell_type": "code",
   "execution_count": 28,
   "id": "5154cbcb",
   "metadata": {},
   "outputs": [
    {
     "data": {
      "text/plain": [
       "['Mean_Temperature_F',\n",
       " 'Events_BLANK',\n",
       " 'Events_Fog',\n",
       " 'Events_Fog-Rain',\n",
       " 'Events_Rain',\n",
       " 'Events_Rain-Snow',\n",
       " 'Events_Rain-Thunderstorm',\n",
       " 'Events_Snow']"
      ]
     },
     "execution_count": 28,
     "metadata": {},
     "output_type": "execute_result"
    }
   ],
   "source": [
    "cols = list(X_train.columns)\n",
    "cols"
   ]
  },
  {
   "cell_type": "code",
   "execution_count": 29,
   "id": "93a59ff6",
   "metadata": {},
   "outputs": [],
   "source": [
    "X_train[cols] = scaler.fit_transform(X_train)\n",
    "X_test[cols] = scaler.transform(X_test) "
   ]
  },
  {
   "cell_type": "code",
   "execution_count": 30,
   "id": "534a534f",
   "metadata": {},
   "outputs": [],
   "source": [
    "y_train = scaler_target.fit_transform(y_train.values.reshape(-1, 1)) \n",
    "y_test = scaler_target.transform(y_test.values.reshape(-1, 1))"
   ]
  },
  {
   "cell_type": "code",
   "execution_count": 31,
   "id": "ea1c69ef",
   "metadata": {},
   "outputs": [
    {
     "name": "stdout",
     "output_type": "stream",
     "text": [
      "1.0 1.0303032562316904e-16\n",
      "1.0232936882914232 0.0005829538733390925\n"
     ]
    }
   ],
   "source": [
    "print(y_train.std(), y_train.mean())\n",
    "print(y_test.std(), y_test.mean())"
   ]
  },
  {
   "cell_type": "code",
   "execution_count": 32,
   "id": "e077c593",
   "metadata": {},
   "outputs": [],
   "source": [
    "cols = ['Mean_Temperature_F']"
   ]
  },
  {
   "cell_type": "code",
   "execution_count": 33,
   "id": "cc055986",
   "metadata": {},
   "outputs": [],
   "source": [
    "# call the method\n",
    "regressor = LinearRegression(fit_intercept = False) \n",
    "# fit_intercept = false, do not try and fit. If scaled the mean of every feature already is 0. \n",
    "# This kind of model will always go through 0\n",
    "\n",
    "# Fit the model <- THIS IS ML\n",
    "regressor.fit(X_train[cols], y_train) # Both the training data's\n",
    "\n",
    "# Carry out predictions on our test set\n",
    "y_pred = regressor.predict(X_test[cols])"
   ]
  },
  {
   "cell_type": "code",
   "execution_count": 34,
   "id": "ff8f306c",
   "metadata": {},
   "outputs": [
    {
     "data": {
      "text/plain": [
       "array([[ 0.04115951],\n",
       "       [-0.13674502],\n",
       "       [-0.07744351],\n",
       "       ...,\n",
       "       [ 0.10046102],\n",
       "       [ 0.27836555],\n",
       "       [-0.03296738]])"
      ]
     },
     "execution_count": 34,
     "metadata": {},
     "output_type": "execute_result"
    }
   ],
   "source": [
    "y_pred"
   ]
  },
  {
   "cell_type": "code",
   "execution_count": 35,
   "id": "833fa972",
   "metadata": {},
   "outputs": [
    {
     "name": "stderr",
     "output_type": "stream",
     "text": [
      "C:\\ProgramData\\anaconda3\\lib\\site-packages\\sklearn\\base.py:420: UserWarning: X does not have valid feature names, but LinearRegression was fitted with feature names\n",
      "  warnings.warn(\n"
     ]
    },
    {
     "data": {
      "image/png": "[encoded data removed]",
      "text/plain": [
       "<Figure size 1500x800 with 1 Axes>"
      ]
     },
     "metadata": {},
     "output_type": "display_data"
    }
   ],
   "source": [
    "plt.figure(figsize=(15, 8))\n",
    "plt.scatter(X_train[cols], y_train, s=0.1)\n",
    "\n",
    "x = np.linspace(X_train[cols].min(), 3.6, 100)\n",
    "\n",
    "y = regressor.predict(x)\n",
    "\n",
    "plt.plot(x, y, '-r')\n",
    "\n",
    "# # Adding labels to each axis\n",
    "plt.xlabel('Mean Temperature F Z_scores')\n",
    "plt.ylabel('Number of Trips Z_scores')\n",
    "\n",
    "# calling the plot\n",
    "plt.show()"
   ]
  },
  {
   "cell_type": "code",
   "execution_count": 36,
   "id": "70a42877",
   "metadata": {},
   "outputs": [
    {
     "data": {
      "image/png": "[encoded data removed]",
      "text/plain": [
       "<Figure size 1500x800 with 1 Axes>"
      ]
     },
     "metadata": {},
     "output_type": "display_data"
    }
   ],
   "source": [
    "# Same as above\n",
    "# notice the difference in the scatter plot\n",
    "plt.figure(figsize=(15, 8))\n",
    "plt.scatter(X_test[cols], y_test, s=0.1)\n",
    "x = np.linspace(X_train[cols].min(),3.6,100)\n",
    "y = (regressor.coef_)*x+(regressor.intercept_)\n",
    "\n",
    "plt.plot(x, y, '-r', label='Model')\n",
    "plt.xlabel('Mean Temperature F Z_scores')\n",
    "plt.ylabel('Number of Trips Z_scores')\n",
    "plt.show()"
   ]
  },
  {
   "cell_type": "code",
   "execution_count": 37,
   "id": "e1f52c5e",
   "metadata": {},
   "outputs": [],
   "source": [
    "# first we need to reverse the transformation so we have meanginful results\n",
    "# calling inverse_transform on our scaler\n",
    "y_true = scaler_target.inverse_transform(y_test) # <- observed y values\n",
    "y_pred_inverse = scaler_target.inverse_transform(y_pred) # <- predicted y"
   ]
  },
  {
   "cell_type": "code",
   "execution_count": 38,
   "id": "09e75160",
   "metadata": {},
   "outputs": [],
   "source": [
    "# Calculating the errors\n",
    "mae = mean_absolute_error(y_true, y_pred_inverse)\n",
    "mse = mean_squared_error(y_true, y_pred_inverse)\n",
    "rmse = np.sqrt(mse)\n",
    "\n",
    "# Calculting the R^2\n",
    "r2 = r2_score(y_true, y_pred_inverse)"
   ]
  },
  {
   "cell_type": "code",
   "execution_count": 39,
   "id": "37ce5c54",
   "metadata": {},
   "outputs": [
    {
     "name": "stdout",
     "output_type": "stream",
     "text": [
      "MAE =  5.34\n",
      "MSE =  55.57\n",
      "RMSE =  7.45\n",
      "R^2 =  0.02\n"
     ]
    }
   ],
   "source": [
    "print('MAE = ', mae.round(2))\n",
    "print('MSE = ', mse.round(2))\n",
    "print('RMSE = ', rmse.round(2))\n",
    "print('R^2 = ', r2.round(2))"
   ]
  },
  {
   "cell_type": "markdown",
   "id": "ea2ad758",
   "metadata": {},
   "source": [
    "# Multi Linear Regression"
   ]
  },
  {
   "cell_type": "code",
   "execution_count": 40,
   "id": "e7963f7e",
   "metadata": {},
   "outputs": [],
   "source": [
    "cols =['Mean_Temperature_F', 'Events_BLANK', 'Events_Fog', 'Events_Fog-Rain',\n",
    "       'Events_Rain', 'Events_Rain-Snow', 'Events_Rain-Thunderstorm',\n",
    "       'Events_Snow']"
   ]
  },
  {
   "cell_type": "code",
   "execution_count": 41,
   "id": "a0713031",
   "metadata": {},
   "outputs": [
    {
     "name": "stdout",
     "output_type": "stream",
     "text": [
      "MAE =  5.3205\n",
      "MSE =  55.2689\n",
      "RMSE =  7.4343\n",
      "R^2 =  0.0205\n"
     ]
    }
   ],
   "source": [
    "# call the method\n",
    "regressor = LinearRegression( fit_intercept = False)\n",
    "\n",
    "# Fit the model\n",
    "regressor.fit(X_train[cols],y_train)\n",
    "\n",
    "# Carry out predictions on our test set\n",
    "y_pred = regressor.predict(X_test[cols])\n",
    "\n",
    "# first we need to reverse the transformation so we have meanginful results\n",
    "y_true = scaler_target.inverse_transform(y_test)\n",
    "y_pred = scaler_target.inverse_transform(y_pred)\n",
    "\n",
    "# Calculating the errors\n",
    "mae = mean_absolute_error(y_true, y_pred)\n",
    "mse = mean_squared_error(y_true, y_pred)\n",
    "rmse = np.sqrt(mse)\n",
    "\n",
    "# Calculting the R^2\n",
    "r2 = r2_score(y_true, y_pred)\n",
    "\n",
    "# Viewing these results\n",
    "print('MAE = ', mae.round(4))\n",
    "print('MSE = ', mse.round(4))\n",
    "print('RMSE = ', rmse.round(4))\n",
    "print('R^2 = ', r2.round(4))"
   ]
  },
  {
   "cell_type": "code",
   "execution_count": 42,
   "id": "bb8aaec7",
   "metadata": {},
   "outputs": [
    {
     "data": {
      "text/plain": [
       "0.02054102583823858"
      ]
     },
     "execution_count": 42,
     "metadata": {},
     "output_type": "execute_result"
    }
   ],
   "source": [
    "regressor.score(X_test[cols],y_test)"
   ]
  },
  {
   "cell_type": "markdown",
   "id": "9ed55013",
   "metadata": {},
   "source": [
    "# Decision Tree"
   ]
  },
  {
   "cell_type": "code",
   "execution_count": 43,
   "id": "f910e0a6",
   "metadata": {},
   "outputs": [],
   "source": [
    "tree = trips_per_day"
   ]
  },
  {
   "cell_type": "code",
   "execution_count": 44,
   "id": "f86cb546",
   "metadata": {},
   "outputs": [
    {
     "name": "stderr",
     "output_type": "stream",
     "text": [
      "C:\\Users\\Admin\\AppData\\Local\\Temp\\ipykernel_1192\\2188996527.py:4: UserWarning: Parsing dates in DD/MM/YYYY format when dayfirst=False (the default) was specified. This may lead to inconsistently parsed dates! Specify a format to ensure consistent parsing.\n",
      "  tree['Date'] = pd.to_datetime(tree['Date'])\n",
      "C:\\Users\\Admin\\AppData\\Local\\Temp\\ipykernel_1192\\2188996527.py:16: DataConversionWarning: A column-vector y was passed when a 1d array was expected. Please change the shape of y to (n_samples,), for example using ravel().\n",
      "  rf_model.fit(X_train, y_train)\n"
     ]
    },
    {
     "name": "stdout",
     "output_type": "stream",
     "text": [
      "Mean Squared Error: 34.364248316290194\n"
     ]
    }
   ],
   "source": [
    "le = LabelEncoder()\n",
    "tree['from_station_name'] = le.fit_transform(tree['from_station_name'])\n",
    "\n",
    "tree['Date'] = pd.to_datetime(tree['Date'])\n",
    "tree['DayOfWeek'] = tree['Date'].dt.dayofweek\n",
    "tree['Month'] = tree['Date'].dt.month\n",
    "tree['Year'] = tree['Date'].dt.year\n",
    "\n",
    "X = tree[['from_station_name', 'DayOfWeek', 'Month', 'Year', 'Mean_Temperature_F']]\n",
    "y = tree[['number_of_trips']]\n",
    "\n",
    "X_train, X_test, y_train, y_test = train_test_split(X, y, test_size=0.2, random_state= 42)\n",
    "\n",
    "rf_model = RandomForestRegressor(n_estimators=100, random_state=42)\n",
    "\n",
    "rf_model.fit(X_train, y_train)\n",
    "\n",
    "y_pred = rf_model.predict(X_test)\n",
    "\n",
    "mse = mean_squared_error(y_test, y_pred)\n",
    "print(f'Mean Squared Error: {mse}')"
   ]
  },
  {
   "cell_type": "code",
   "execution_count": 45,
   "id": "7b832ddd",
   "metadata": {},
   "outputs": [
    {
     "data": {
      "image/png": "[encoded data removed]",
      "text/plain": [
       "<Figure size 640x480 with 1 Axes>"
      ]
     },
     "metadata": {},
     "output_type": "display_data"
    }
   ],
   "source": [
    "feature_importance = rf_model.feature_importances_\n",
    "feature_names = X.columns\n",
    "\n",
    "plt.barh(feature_names, feature_importance)\n",
    "plt.xlabel('Feature Importance')\n",
    "plt.ylabel('Random Forest Model: Feature')\n",
    "plt.show();"
   ]
  },
  {
   "cell_type": "code",
   "execution_count": null,
   "id": "27783f92",
   "metadata": {},
   "outputs": [],
   "source": []
  },
  {
   "cell_type": "markdown",
   "id": "456a7d2d",
   "metadata": {},
   "source": [
    "# Using specific time period"
   ]
  },
  {
   "cell_type": "code",
   "execution_count": 46,
   "id": "945c1f32",
   "metadata": {},
   "outputs": [
    {
     "data": {
      "text/html": [
       "<div>\n",
       "<style scoped>\n",
       "    .dataframe tbody tr th:only-of-type {\n",
       "        vertical-align: middle;\n",
       "    }\n",
       "\n",
       "    .dataframe tbody tr th {\n",
       "        vertical-align: top;\n",
       "    }\n",
       "\n",
       "    .dataframe thead th {\n",
       "        text-align: right;\n",
       "    }\n",
       "</style>\n",
       "<table border=\"1\" class=\"dataframe\">\n",
       "  <thead>\n",
       "    <tr style=\"text-align: right;\">\n",
       "      <th></th>\n",
       "      <th>Date</th>\n",
       "      <th>from_station_name</th>\n",
       "      <th>Mean_Temperature_F</th>\n",
       "      <th>Events</th>\n",
       "      <th>number_of_trips</th>\n",
       "      <th>DayOfWeek</th>\n",
       "      <th>Month</th>\n",
       "      <th>Year</th>\n",
       "    </tr>\n",
       "  </thead>\n",
       "  <tbody>\n",
       "    <tr>\n",
       "      <th>0</th>\n",
       "      <td>2015-01-01</td>\n",
       "      <td>0</td>\n",
       "      <td>35.0</td>\n",
       "      <td>BLANK</td>\n",
       "      <td>10</td>\n",
       "      <td>3</td>\n",
       "      <td>1</td>\n",
       "      <td>2015</td>\n",
       "    </tr>\n",
       "    <tr>\n",
       "      <th>1</th>\n",
       "      <td>2015-01-01</td>\n",
       "      <td>1</td>\n",
       "      <td>35.0</td>\n",
       "      <td>BLANK</td>\n",
       "      <td>6</td>\n",
       "      <td>3</td>\n",
       "      <td>1</td>\n",
       "      <td>2015</td>\n",
       "    </tr>\n",
       "    <tr>\n",
       "      <th>2</th>\n",
       "      <td>2015-01-01</td>\n",
       "      <td>4</td>\n",
       "      <td>35.0</td>\n",
       "      <td>BLANK</td>\n",
       "      <td>4</td>\n",
       "      <td>3</td>\n",
       "      <td>1</td>\n",
       "      <td>2015</td>\n",
       "    </tr>\n",
       "    <tr>\n",
       "      <th>3</th>\n",
       "      <td>2015-01-01</td>\n",
       "      <td>6</td>\n",
       "      <td>35.0</td>\n",
       "      <td>BLANK</td>\n",
       "      <td>8</td>\n",
       "      <td>3</td>\n",
       "      <td>1</td>\n",
       "      <td>2015</td>\n",
       "    </tr>\n",
       "    <tr>\n",
       "      <th>4</th>\n",
       "      <td>2015-01-01</td>\n",
       "      <td>7</td>\n",
       "      <td>35.0</td>\n",
       "      <td>BLANK</td>\n",
       "      <td>14</td>\n",
       "      <td>3</td>\n",
       "      <td>1</td>\n",
       "      <td>2015</td>\n",
       "    </tr>\n",
       "  </tbody>\n",
       "</table>\n",
       "</div>"
      ],
      "text/plain": [
       "        Date  from_station_name  Mean_Temperature_F Events  number_of_trips  \\\n",
       "0 2015-01-01                  0                35.0  BLANK               10   \n",
       "1 2015-01-01                  1                35.0  BLANK                6   \n",
       "2 2015-01-01                  4                35.0  BLANK                4   \n",
       "3 2015-01-01                  6                35.0  BLANK                8   \n",
       "4 2015-01-01                  7                35.0  BLANK               14   \n",
       "\n",
       "   DayOfWeek  Month  Year  \n",
       "0          3      1  2015  \n",
       "1          3      1  2015  \n",
       "2          3      1  2015  \n",
       "3          3      1  2015  \n",
       "4          3      1  2015  "
      ]
     },
     "execution_count": 46,
     "metadata": {},
     "output_type": "execute_result"
    }
   ],
   "source": [
    "trips_per_day['Date'] = pd.to_datetime(trips_per_day['Date'])\n",
    "trips_per_day['DayOfWeek'] = trips_per_day['Date'].dt.dayofweek\n",
    "trips_per_day['Month'] = trips_per_day['Date'].dt.month\n",
    "trips_per_day['Year'] = trips_per_day['Date'].dt.year\n",
    "trips_per_day.head()"
   ]
  },
  {
   "cell_type": "code",
   "execution_count": 47,
   "id": "7e75ffed",
   "metadata": {},
   "outputs": [
    {
     "data": {
      "text/plain": [
       "Index(['Date', 'from_station_name', 'Mean_Temperature_F', 'Events',\n",
       "       'number_of_trips', 'DayOfWeek', 'Month', 'Year'],\n",
       "      dtype='object')"
      ]
     },
     "execution_count": 47,
     "metadata": {},
     "output_type": "execute_result"
    }
   ],
   "source": [
    "trips_per_day.columns"
   ]
  },
  {
   "cell_type": "code",
   "execution_count": 48,
   "id": "1954f7d8",
   "metadata": {},
   "outputs": [],
   "source": [
    "X = trips_per_day[['DayOfWeek', \n",
    "                    'Month', \n",
    "                    'Year']]\n",
    "\n",
    "y = trips_per_day['number_of_trips']\n",
    "\n",
    "X_train, X_test, y_train, y_test = train_test_split(X, y, test_size=0.20, random_state =42)"
   ]
  },
  {
   "cell_type": "code",
   "execution_count": 49,
   "id": "23753ec9",
   "metadata": {},
   "outputs": [
    {
     "data": {
      "text/plain": [
       "['DayOfWeek', 'Month', 'Year']"
      ]
     },
     "execution_count": 49,
     "metadata": {},
     "output_type": "execute_result"
    }
   ],
   "source": [
    "cols = list(X_train.columns)\n",
    "cols"
   ]
  },
  {
   "cell_type": "code",
   "execution_count": 50,
   "id": "368b5faf",
   "metadata": {},
   "outputs": [],
   "source": [
    "X_train[cols] = scaler.fit_transform(X_train)\n",
    "X_test[cols] = scaler.transform(X_test) "
   ]
  },
  {
   "cell_type": "code",
   "execution_count": 51,
   "id": "b118a20c",
   "metadata": {},
   "outputs": [],
   "source": [
    "y_train = scaler_target.fit_transform(y_train.values.reshape(-1, 1)) \n",
    "y_test = scaler_target.transform(y_test.values.reshape(-1, 1))"
   ]
  },
  {
   "cell_type": "code",
   "execution_count": 52,
   "id": "d40b95c9",
   "metadata": {},
   "outputs": [
    {
     "name": "stdout",
     "output_type": "stream",
     "text": [
      "1.0 1.0303032562316904e-16\n",
      "1.0232936882914232 0.0005829538733390925\n"
     ]
    }
   ],
   "source": [
    "print(y_train.std(), y_train.mean())\n",
    "print(y_test.std(), y_test.mean())"
   ]
  },
  {
   "cell_type": "code",
   "execution_count": 53,
   "id": "365a6971",
   "metadata": {},
   "outputs": [],
   "source": [
    "cols = ['Month']"
   ]
  },
  {
   "cell_type": "code",
   "execution_count": 54,
   "id": "de9febdd",
   "metadata": {},
   "outputs": [],
   "source": [
    "# call the method\n",
    "regressor = LinearRegression(fit_intercept = False) \n",
    "# fit_intercept = false, do not try and fit. If scaled the mean of every feature already is 0. \n",
    "# This kind of model will always go through 0\n",
    "\n",
    "# Fit the model <- THIS IS ML\n",
    "regressor.fit(X_train[cols], y_train) # Both the training data's\n",
    "\n",
    "# Carry out predictions on our test set\n",
    "y_pred = regressor.predict(X_test[cols])"
   ]
  },
  {
   "cell_type": "code",
   "execution_count": 55,
   "id": "22c294e4",
   "metadata": {},
   "outputs": [
    {
     "data": {
      "text/plain": [
       "array([[-0.01013449],\n",
       "       [ 0.02164884],\n",
       "       [ 0.00973009],\n",
       "       ...,\n",
       "       [-0.02205324],\n",
       "       [ 0.00178426],\n",
       "       [-0.01410741]])"
      ]
     },
     "execution_count": 55,
     "metadata": {},
     "output_type": "execute_result"
    }
   ],
   "source": [
    "y_pred"
   ]
  },
  {
   "cell_type": "code",
   "execution_count": 56,
   "id": "77b46c1b",
   "metadata": {},
   "outputs": [
    {
     "name": "stderr",
     "output_type": "stream",
     "text": [
      "C:\\ProgramData\\anaconda3\\lib\\site-packages\\sklearn\\base.py:420: UserWarning: X does not have valid feature names, but LinearRegression was fitted with feature names\n",
      "  warnings.warn(\n"
     ]
    },
    {
     "data": {
      "image/png": "[encoded data removed]",
      "text/plain": [
       "<Figure size 1500x800 with 1 Axes>"
      ]
     },
     "metadata": {},
     "output_type": "display_data"
    }
   ],
   "source": [
    "plt.figure(figsize=(15, 8))\n",
    "plt.scatter(X_train[cols], y_train, s=0.1)\n",
    "\n",
    "x = np.linspace(X_train[cols].min(), 3.6, 100)\n",
    "\n",
    "y = regressor.predict(x)\n",
    "\n",
    "plt.plot(x, y, '-r')\n",
    "\n",
    "# # Adding labels to each axis\n",
    "plt.xlabel('Month')\n",
    "plt.ylabel('Number of Trips')\n",
    "\n",
    "# calling the plot\n",
    "plt.show()"
   ]
  },
  {
   "cell_type": "code",
   "execution_count": 57,
   "id": "b4227b0d",
   "metadata": {},
   "outputs": [
    {
     "data": {
      "image/png": "[encoded data removed]",
      "text/plain": [
       "<Figure size 1500x800 with 1 Axes>"
      ]
     },
     "metadata": {},
     "output_type": "display_data"
    }
   ],
   "source": [
    "# Same as above\n",
    "# notice the difference in the scatter plot\n",
    "plt.figure(figsize=(15, 8))\n",
    "plt.scatter(X_test[cols], y_test, s=0.1)\n",
    "x = np.linspace(X_train[cols].min(),3.6,100)\n",
    "y = (regressor.coef_)*x+(regressor.intercept_)\n",
    "\n",
    "plt.plot(x, y, '-r', label='Model')\n",
    "plt.xlabel('Month Z_scores')\n",
    "plt.ylabel('Number of Trips Z_scores')\n",
    "plt.show()"
   ]
  },
  {
   "cell_type": "code",
   "execution_count": 58,
   "id": "a85b97ef",
   "metadata": {},
   "outputs": [],
   "source": [
    "# first we need to reverse the transformation so we have meanginful results\n",
    "# calling inverse_transform on our scaler\n",
    "y_true = scaler_target.inverse_transform(y_test) # <- observed y values\n",
    "y_pred_inverse = scaler_target.inverse_transform(y_pred) # <- predicted y"
   ]
  },
  {
   "cell_type": "code",
   "execution_count": 59,
   "id": "5e5554ed",
   "metadata": {},
   "outputs": [],
   "source": [
    "# Calculating the errors\n",
    "mae = mean_absolute_error(y_true, y_pred_inverse)\n",
    "mse = mean_squared_error(y_true, y_pred_inverse)\n",
    "rmse = np.sqrt(mse)\n",
    "\n",
    "# Calculting the R^2\n",
    "r2 = r2_score(y_true, y_pred_inverse)"
   ]
  },
  {
   "cell_type": "code",
   "execution_count": 60,
   "id": "a2c7a016",
   "metadata": {},
   "outputs": [
    {
     "name": "stdout",
     "output_type": "stream",
     "text": [
      "MAE =  5.44\n",
      "MSE =  56.39\n",
      "RMSE =  7.51\n",
      "R^2 =  0.0\n"
     ]
    }
   ],
   "source": [
    "print('MAE = ', mae.round(2))\n",
    "print('MSE = ', mse.round(2))\n",
    "print('RMSE = ', rmse.round(2))\n",
    "print('R^2 = ', r2.round(2))"
   ]
  },
  {
   "cell_type": "code",
   "execution_count": null,
   "id": "6df20d65",
   "metadata": {},
   "outputs": [],
   "source": []
  }
 ],
 "metadata": {
  "kernelspec": {
   "display_name": "Python 3 (ipykernel)",
   "language": "python",
   "name": "python3"
  },
  "language_info": {
   "codemirror_mode": {
    "name": "ipython",
    "version": 3
   },
   "file_extension": ".py",
   "mimetype": "text/x-python",
   "name": "python",
   "nbconvert_exporter": "python",
   "pygments_lexer": "ipython3",
   "version": "3.10.9"
  }
 },
 "nbformat": 4,
 "nbformat_minor": 5
}
